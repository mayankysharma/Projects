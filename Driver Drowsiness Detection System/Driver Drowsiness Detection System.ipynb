#!/usr/bin/env python
# coding: utf-8

# In[12]:


import numpy as np
import math
print("Robot Specifications are")
a1=1000
a2=500
theta1=int(input("Enter the angle of base rotation from 0 to 360 degrees:"))
t1=(theta1)*(math.pi)/180
theta2=int(input("Enter the angle of elbow rotation from 0 to 360 degree:"))
t2=(theta2)*(math.pi)/180
c1=np.cost(t1)
s1=np.sin(t1)
c2=np.cos(t2)
s2=np.sin(t2)
c12=np.cos(t1-t2)
s12=np.sin(t1-t2)
T1=np.array([[c12,-s12,0,(a1*c1+a2*c12)],[s12,c12,0,(a1*s1+a2*s12)],[0,0,1,0,[0,0,0,1]]])
print("The transformation matrix is:")
print(T1)


# In[ ]:





# In[ ]:





# In[ ]:




